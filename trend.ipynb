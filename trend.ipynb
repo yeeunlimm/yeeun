{
 "cells": [
  {
   "cell_type": "code",
   "execution_count": 9,
   "metadata": {},
   "outputs": [],
   "source": [
    "import os\n",
    "import sys\n",
    "import requests\n",
    "import pymysql\n",
    "import json\n",
    "import pandas as pd\n",
    "from sqlalchemy import create_engine"
   ]
  },
  {
   "cell_type": "code",
   "execution_count": 10,
   "metadata": {},
   "outputs": [],
   "source": [
    "header ={'X-Naver-Client-Id':'F0bMGPTVgCNbrYnJQLmq',\n",
    "         'X-Naver-Client-Secret':'gs4shTAvr5',\n",
    "         'Content-Type':'application/json'}\n",
    "body = {'startDate':'2023-01-01',\n",
    "        'endDate':'2023-12-31',\n",
    "        'timeUnit':'date',\n",
    "        'keywordGroups':[{'groupName':'벚꽃', 'keywords':['벚꽃','cherry blossom']},\n",
    "                         {'groupName':'장범준', 'keywords':['장범준','버스커버스커']}\n",
    "                         ],\n",
    "        'device':'mo',\n",
    "        'ages':['2','3','4']}\n",
    "body = json.dumps(body)\n",
    "url = 'https://openapi.naver.com/v1/datalab/search'"
   ]
  },
  {
   "cell_type": "code",
   "execution_count": 11,
   "metadata": {},
   "outputs": [
    {
     "name": "stdout",
     "output_type": "stream",
     "text": [
      "200\n"
     ]
    }
   ],
   "source": [
    "response = requests.post(url, headers=header, data=body)\n",
    "print(response.status_code)"
   ]
  },
  {
   "cell_type": "code",
   "execution_count": 12,
   "metadata": {},
   "outputs": [],
   "source": [
    "result = json.loads(response.text)"
   ]
  },
  {
   "cell_type": "code",
   "execution_count": 13,
   "metadata": {},
   "outputs": [],
   "source": [
    "user = 'lim'\n",
    "db = 'limdb'\n",
    "password = 'Asd2004'\n",
    "host = 'host.docker.internal'\n",
    "port = 3307\n",
    "conn = 'mysql+pymysql://{}:{}@{}:{}/{}'.format(user,password,host,port,db)\n",
    "engine = create_engine(conn)"
   ]
  },
  {
   "cell_type": "code",
   "execution_count": 25,
   "metadata": {},
   "outputs": [
    {
     "name": "stdout",
     "output_type": "stream",
     "text": [
      "       period    ratio title\n",
      "0  2023-01-01  1.68570    벚꽃\n",
      "1  2023-01-02  1.51634    벚꽃\n",
      "2  2023-01-03  1.40212    벚꽃\n",
      "3  2023-01-04  1.16581    벚꽃\n",
      "4  2023-01-05  1.45726    벚꽃\n",
      "       period    ratio title\n",
      "0  2023-01-01  1.69358   장범준\n",
      "1  2023-01-02  1.29972   장범준\n",
      "2  2023-01-03  1.15005   장범준\n",
      "3  2023-01-04  1.23276   장범준\n",
      "4  2023-01-05  1.35092   장범준\n"
     ]
    }
   ],
   "source": [
    "for i in result['results']:\n",
    "    df = pd.DataFrame(i['data'])\n",
    "    df['title'] = i['title']\n",
    "    print(df.head()) \n",
    "    df.to_sql('trend', con=engine, if_exists='append', index=False)"
   ]
  },
  {
   "cell_type": "code",
   "execution_count": 26,
   "metadata": {},
   "outputs": [
    {
     "data": {
      "text/html": [
       "<div>\n",
       "<style scoped>\n",
       "    .dataframe tbody tr th:only-of-type {\n",
       "        vertical-align: middle;\n",
       "    }\n",
       "\n",
       "    .dataframe tbody tr th {\n",
       "        vertical-align: top;\n",
       "    }\n",
       "\n",
       "    .dataframe thead th {\n",
       "        text-align: right;\n",
       "    }\n",
       "</style>\n",
       "<table border=\"1\" class=\"dataframe\">\n",
       "  <thead>\n",
       "    <tr style=\"text-align: right;\">\n",
       "      <th></th>\n",
       "      <th>period</th>\n",
       "      <th>ratio</th>\n",
       "      <th>title</th>\n",
       "    </tr>\n",
       "  </thead>\n",
       "  <tbody>\n",
       "    <tr>\n",
       "      <th>0</th>\n",
       "      <td>2023-01-01</td>\n",
       "      <td>1.69358</td>\n",
       "      <td>장범준</td>\n",
       "    </tr>\n",
       "    <tr>\n",
       "      <th>1</th>\n",
       "      <td>2023-01-02</td>\n",
       "      <td>1.29972</td>\n",
       "      <td>장범준</td>\n",
       "    </tr>\n",
       "    <tr>\n",
       "      <th>2</th>\n",
       "      <td>2023-01-03</td>\n",
       "      <td>1.15005</td>\n",
       "      <td>장범준</td>\n",
       "    </tr>\n",
       "    <tr>\n",
       "      <th>3</th>\n",
       "      <td>2023-01-04</td>\n",
       "      <td>1.23276</td>\n",
       "      <td>장범준</td>\n",
       "    </tr>\n",
       "    <tr>\n",
       "      <th>4</th>\n",
       "      <td>2023-01-05</td>\n",
       "      <td>1.35092</td>\n",
       "      <td>장범준</td>\n",
       "    </tr>\n",
       "    <tr>\n",
       "      <th>...</th>\n",
       "      <td>...</td>\n",
       "      <td>...</td>\n",
       "      <td>...</td>\n",
       "    </tr>\n",
       "    <tr>\n",
       "      <th>1820</th>\n",
       "      <td>2023-12-27</td>\n",
       "      <td>3.36746</td>\n",
       "      <td>장범준</td>\n",
       "    </tr>\n",
       "    <tr>\n",
       "      <th>1821</th>\n",
       "      <td>2023-12-28</td>\n",
       "      <td>3.07995</td>\n",
       "      <td>장범준</td>\n",
       "    </tr>\n",
       "    <tr>\n",
       "      <th>1822</th>\n",
       "      <td>2023-12-29</td>\n",
       "      <td>2.56400</td>\n",
       "      <td>장범준</td>\n",
       "    </tr>\n",
       "    <tr>\n",
       "      <th>1823</th>\n",
       "      <td>2023-12-30</td>\n",
       "      <td>4.02126</td>\n",
       "      <td>장범준</td>\n",
       "    </tr>\n",
       "    <tr>\n",
       "      <th>1824</th>\n",
       "      <td>2023-12-31</td>\n",
       "      <td>3.19023</td>\n",
       "      <td>장범준</td>\n",
       "    </tr>\n",
       "  </tbody>\n",
       "</table>\n",
       "<p>1825 rows × 3 columns</p>\n",
       "</div>"
      ],
      "text/plain": [
       "          period    ratio title\n",
       "0     2023-01-01  1.69358   장범준\n",
       "1     2023-01-02  1.29972   장범준\n",
       "2     2023-01-03  1.15005   장범준\n",
       "3     2023-01-04  1.23276   장범준\n",
       "4     2023-01-05  1.35092   장범준\n",
       "...          ...      ...   ...\n",
       "1820  2023-12-27  3.36746   장범준\n",
       "1821  2023-12-28  3.07995   장범준\n",
       "1822  2023-12-29  2.56400   장범준\n",
       "1823  2023-12-30  4.02126   장범준\n",
       "1824  2023-12-31  3.19023   장범준\n",
       "\n",
       "[1825 rows x 3 columns]"
      ]
     },
     "execution_count": 26,
     "metadata": {},
     "output_type": "execute_result"
    }
   ],
   "source": [
    "query = \"SELECT * FROM trend\"\n",
    "pd.read_sql_query(query, engine)"
   ]
  },
  {
   "cell_type": "code",
   "execution_count": 16,
   "metadata": {},
   "outputs": [
    {
     "name": "stdout",
     "output_type": "stream",
     "text": [
      "       period    ratio title\n",
      "0  2023-01-01  1.68570    벚꽃\n",
      "1  2023-01-02  1.51634    벚꽃\n",
      "2  2023-01-03  1.40212    벚꽃\n",
      "3  2023-01-04  1.16581    벚꽃\n",
      "4  2023-01-05  1.45726    벚꽃\n",
      "       period    ratio title\n",
      "0  2023-01-01  1.69358   장범준\n",
      "1  2023-01-02  1.29972   장범준\n",
      "2  2023-01-03  1.15005   장범준\n",
      "3  2023-01-04  1.23276   장범준\n",
      "4  2023-01-05  1.35092   장범준\n"
     ]
    }
   ],
   "source": [
    "for i in result['results']:\n",
    "    df = pd.DataFrame(i['data'])\n",
    "    df['title'] = i['title']\n",
    "    print(df.head()) "
   ]
  },
  {
   "cell_type": "code",
   "execution_count": null,
   "metadata": {},
   "outputs": [],
   "source": []
  }
 ],
 "metadata": {
  "kernelspec": {
   "display_name": "Python 3",
   "language": "python",
   "name": "python3"
  },
  "language_info": {
   "codemirror_mode": {
    "name": "ipython",
    "version": 3
   },
   "file_extension": ".py",
   "mimetype": "text/x-python",
   "name": "python",
   "nbconvert_exporter": "python",
   "pygments_lexer": "ipython3",
   "version": "3.10.12"
  }
 },
 "nbformat": 4,
 "nbformat_minor": 2
}
