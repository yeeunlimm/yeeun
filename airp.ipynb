{
 "cells": [
  {
   "cell_type": "code",
   "execution_count": 1,
   "metadata": {},
   "outputs": [],
   "source": [
    "import os\n",
    "import sys\n",
    "import requests\n",
    "import pymysql\n",
    "import json\n",
    "import pandas as pd\n",
    "from sqlalchemy import create_engine\n"
   ]
  },
  {
   "cell_type": "code",
   "execution_count": 7,
   "metadata": {},
   "outputs": [
    {
     "name": "stdout",
     "output_type": "stream",
     "text": [
      "200\n"
     ]
    }
   ],
   "source": [
    "url = \"http://apis.data.go.kr/B552584/ArpltnInforInqireSvc/getCtprvnRltmMesureDnsty\"\n",
    "params = {'serviceKey':'SrBP4MJ4PYFoYhIxaHfCMHSC1yBK4gLjLleGwxw2QL0MA/Etyjf8JiX/2fhz5/sL4xrzckRXXjWNnS4agSqm5A==',\n",
    "          'returnType':'json',\n",
    "          'numOfRows':'100',\n",
    "          'pageNo':'1',\n",
    "          'sidoName':'서울'}\n",
    "response = requests.get(url,params=params)\n",
    "print(response.status_code)"
   ]
  },
  {
   "cell_type": "code",
   "execution_count": 9,
   "metadata": {},
   "outputs": [],
   "source": [
    "result = response.json()"
   ]
  },
  {
   "cell_type": "code",
   "execution_count": null,
   "metadata": {},
   "outputs": [],
   "source": [
    "df = pd.DataFrame(result['response']['body']['items'])\n",
    "col = ['sidoName','so2Value','coValue','o3Value','no2Value','pm10Value']\n",
    "df = df[col]\n",
    "\n",
    "user = 'lim'\n",
    "db = 'limdb'\n",
    "password = 'Asd2004'\n",
    "host = 'host.docker.internal' \n",
    "port = 3307\n",
    "conn = 'mysql+pymysql://{}:{}@{}:{}/{}'.format(user,password,host,port,db)\n",
    "engine = create_engine(conn)\n",
    "df.to_sql(name='air_pollution', con=engine, if_exists='append', index=False)\n",
    "\n",
    "query = 'SELECT* FROM air_pollution;'\n",
    "pd.read_sql_query(query,engine)"
   ]
  }
 ],
 "metadata": {
  "kernelspec": {
   "display_name": "Python 3",
   "language": "python",
   "name": "python3"
  },
  "language_info": {
   "codemirror_mode": {
    "name": "ipython",
    "version": 3
   },
   "file_extension": ".py",
   "mimetype": "text/x-python",
   "name": "python",
   "nbconvert_exporter": "python",
   "pygments_lexer": "ipython3",
   "version": "3.10.12"
  }
 },
 "nbformat": 4,
 "nbformat_minor": 2
}
